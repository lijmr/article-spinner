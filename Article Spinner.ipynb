{
 "cells": [
  {
   "cell_type": "markdown",
   "id": "918a8163",
   "metadata": {},
   "source": [
    "# NLP Article Spinner #"
   ]
  },
  {
   "cell_type": "markdown",
   "id": "6017b079",
   "metadata": {},
   "source": [
    "## Import files & APIs"
   ]
  },
  {
   "cell_type": "code",
   "execution_count": 1,
   "id": "1420c797",
   "metadata": {},
   "outputs": [],
   "source": [
    "import nltk\n",
    "import random\n",
    "import numpy as np\n",
    "import string"
   ]
  },
  {
   "cell_type": "code",
   "execution_count": 2,
   "id": "7c02336e",
   "metadata": {},
   "outputs": [],
   "source": [
    "from bs4 import BeautifulSoup"
   ]
  },
  {
   "cell_type": "code",
   "execution_count": 3,
   "id": "b22fa6e2",
   "metadata": {},
   "outputs": [],
   "source": [
    "positive_reviews = BeautifulSoup(open('positive.review').read())\n",
    "positive_reviews = positive_reviews.findAll('review_text')"
   ]
  },
  {
   "cell_type": "markdown",
   "id": "c72f95ba",
   "metadata": {},
   "source": [
    "## Build trigram model ##"
   ]
  },
  {
   "cell_type": "code",
   "execution_count": 4,
   "id": "19c352f4",
   "metadata": {},
   "outputs": [],
   "source": [
    "def tokenize(s):\n",
    "    s = s.lower()\n",
    "    tokens = nltk.tokenize.word_tokenize(s)\n",
    "    return tokens"
   ]
  },
  {
   "cell_type": "code",
   "execution_count": 5,
   "id": "4d4629c5",
   "metadata": {},
   "outputs": [],
   "source": [
    "trigram = {}\n",
    "for review in positive_reviews:\n",
    "    review = review.get_text()\n",
    "    tokens = tokenize(review)\n",
    "    for i in range(1, len(tokens) - 1):\n",
    "        prev_tok = tokens[i - 1]\n",
    "        cur_tok = tokens[i]\n",
    "        next_tok = tokens[i + 1]\n",
    "        if (prev_tok, next_tok) not in trigram:\n",
    "            trigram[(prev_tok, next_tok)] = {}\n",
    "        if cur_tok not in trigram[(prev_tok, next_tok)]:\n",
    "            trigram[(prev_tok, next_tok)][cur_tok] = 0\n",
    "        trigram[(prev_tok, next_tok)][cur_tok] += 1"
   ]
  },
  {
   "cell_type": "code",
   "execution_count": 6,
   "id": "835cc485",
   "metadata": {},
   "outputs": [],
   "source": [
    "# Normalize\n",
    "for middle_words in trigram.values():\n",
    "    count_total = sum(middle_words.values())\n",
    "    for word in middle_words:\n",
    "        middle_words[word] /= count_total"
   ]
  },
  {
   "cell_type": "markdown",
   "id": "68a6393b",
   "metadata": {},
   "source": [
    "## Sample function ##"
   ]
  },
  {
   "cell_type": "code",
   "execution_count": 7,
   "id": "c09a0773",
   "metadata": {},
   "outputs": [],
   "source": [
    "def sample_word(prob_dict):\n",
    "    sample = random.random()\n",
    "    cum_prob = 0\n",
    "    for word, prob in prob_dict.items():\n",
    "        cum_prob += prob\n",
    "        if cum_prob > sample:\n",
    "            return word"
   ]
  },
  {
   "cell_type": "markdown",
   "id": "9fe58553",
   "metadata": {},
   "source": [
    "## Spin article ##"
   ]
  },
  {
   "cell_type": "code",
   "execution_count": 8,
   "id": "cb023d6f",
   "metadata": {},
   "outputs": [],
   "source": [
    "def test_spinner():\n",
    "    review = random.choice(positive_reviews)\n",
    "    s = review.get_text().lower()\n",
    "    print(\"Original:\", s)\n",
    "    tokens = tokenize(s)\n",
    "    for i in range(1, len(tokens) - 1):\n",
    "        if random.random() < 0.2:\n",
    "            prev_next_words = (tokens[i - 1], tokens[i + 1])\n",
    "            if prev_next_words in trigram:\n",
    "                tokens[i] = sample_word(trigram[prev_next_words])\n",
    "    print(\"New:\")\n",
    "    new_text = \" \".join(tokens).replace(\" .\", \".\")\n",
    "    new_text = new_text.replace(\" '\", \"'\")\n",
    "    new_text = new_text.replace(\" ,\", \",\")\n",
    "    new_text = new_text.replace(\"$ \", \"$\")\n",
    "    new_text = new_text.replace(\" !\", \"!\")\n",
    "    print(new_text)"
   ]
  },
  {
   "cell_type": "code",
   "execution_count": 9,
   "id": "5b9566a7",
   "metadata": {},
   "outputs": [
    {
     "name": "stdout",
     "output_type": "stream",
     "text": [
      "Original: \n",
      "the only thing you will need when you buy this package is some extra paper! i love the fact that epson advertises realistic figures for this package. some other printer makers do not do this!\n",
      "\n",
      "New:\n",
      "the only thing you will need when you buy this package is some extra paper! i dragged the fact that epson advertises realistic figures for this package. some other printer makers do not do this!\n"
     ]
    }
   ],
   "source": [
    "test_spinner()"
   ]
  },
  {
   "cell_type": "code",
   "execution_count": null,
   "id": "847147c3",
   "metadata": {},
   "outputs": [],
   "source": []
  }
 ],
 "metadata": {
  "kernelspec": {
   "display_name": "Python 3 (ipykernel)",
   "language": "python",
   "name": "python3"
  },
  "language_info": {
   "codemirror_mode": {
    "name": "ipython",
    "version": 3
   },
   "file_extension": ".py",
   "mimetype": "text/x-python",
   "name": "python",
   "nbconvert_exporter": "python",
   "pygments_lexer": "ipython3",
   "version": "3.8.8"
  }
 },
 "nbformat": 4,
 "nbformat_minor": 5
}
