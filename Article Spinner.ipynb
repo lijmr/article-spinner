{
 "cells": [
  {
   "cell_type": "markdown",
   "id": "01bdd902",
   "metadata": {},
   "source": [
    "# NLP Article Spinner #"
   ]
  },
  {
   "cell_type": "markdown",
   "id": "453d8ce5",
   "metadata": {},
   "source": [
    "## Import files & APIs"
   ]
  },
  {
   "cell_type": "code",
   "execution_count": 14,
   "id": "6e4e0162",
   "metadata": {},
   "outputs": [],
   "source": [
    "import nltk\n",
    "import random\n",
    "import numpy as np\n",
    "import string"
   ]
  },
  {
   "cell_type": "code",
   "execution_count": 15,
   "id": "5246b25e",
   "metadata": {},
   "outputs": [],
   "source": [
    "from bs4 import BeautifulSoup"
   ]
  },
  {
   "cell_type": "code",
   "execution_count": 16,
   "id": "1ddc76c3",
   "metadata": {},
   "outputs": [],
   "source": [
    "positive_reviews = BeautifulSoup(open('positive.review').read())\n",
    "positive_reviews = positive_reviews.findAll('review_text')"
   ]
  },
  {
   "cell_type": "markdown",
   "id": "cb7a8877",
   "metadata": {},
   "source": [
    "## Build trigram model ##"
   ]
  },
  {
   "cell_type": "code",
   "execution_count": 45,
   "id": "9b18018b",
   "metadata": {},
   "outputs": [],
   "source": [
    "def tokenize(s):\n",
    "    s = s.lower()\n",
    "    tokens = nltk.tokenize.word_tokenize(s)\n",
    "    tokens = [tok for tok in tokens if tok not in string.punctuation]\n",
    "    return tokens"
   ]
  },
  {
   "cell_type": "code",
   "execution_count": 46,
   "id": "8e4dc027",
   "metadata": {},
   "outputs": [],
   "source": [
    "trigram = {}\n",
    "for review in positive_reviews:\n",
    "    review = review.get_text()\n",
    "    tokens = tokenize(review)\n",
    "    for i in range(1, len(tokens) - 1):\n",
    "        prev_tok = tokens[i - 1]\n",
    "        cur_tok = tokens[i]\n",
    "        next_tok = tokens[i + 1]\n",
    "        if (prev_tok, next_tok) not in trigram:\n",
    "            trigram[(prev_tok, next_tok)] = {}\n",
    "        if cur_tok not in trigram[(prev_tok, next_tok)]:\n",
    "            trigram[(prev_tok, next_tok)][cur_tok] = 0\n",
    "        trigram[(prev_tok, next_tok)][cur_tok] += 1"
   ]
  },
  {
   "cell_type": "code",
   "execution_count": 48,
   "id": "f6ae999d",
   "metadata": {},
   "outputs": [],
   "source": [
    "# Normalize\n",
    "for middle_words in trigram.values():\n",
    "    count_total = sum(middle_words.values())\n",
    "    for word in middle_words:\n",
    "        middle_words[word] /= count_total"
   ]
  },
  {
   "cell_type": "markdown",
   "id": "e6673dd6",
   "metadata": {},
   "source": [
    "## Sample function ##"
   ]
  },
  {
   "cell_type": "code",
   "execution_count": 50,
   "id": "9be022fe",
   "metadata": {},
   "outputs": [],
   "source": [
    "def sample_word(prob_dict):\n",
    "    sample = random.random()\n",
    "    cum_prob = 0\n",
    "    for word, prob in prob_dict.items():\n",
    "        cum_prob += prob\n",
    "        if cum_prob > sample:\n",
    "            return word"
   ]
  },
  {
   "cell_type": "code",
   "execution_count": null,
   "id": "a7c68868",
   "metadata": {},
   "outputs": [],
   "source": []
  }
 ],
 "metadata": {
  "kernelspec": {
   "display_name": "Python 3 (ipykernel)",
   "language": "python",
   "name": "python3"
  },
  "language_info": {
   "codemirror_mode": {
    "name": "ipython",
    "version": 3
   },
   "file_extension": ".py",
   "mimetype": "text/x-python",
   "name": "python",
   "nbconvert_exporter": "python",
   "pygments_lexer": "ipython3",
   "version": "3.8.8"
  }
 },
 "nbformat": 4,
 "nbformat_minor": 5
}
