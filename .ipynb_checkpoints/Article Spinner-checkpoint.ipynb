{
 "cells": [
  {
   "cell_type": "markdown",
   "id": "d33051b3",
   "metadata": {},
   "source": [
    "# NLP Article Spinner #"
   ]
  },
  {
   "cell_type": "markdown",
   "id": "e6da45ba",
   "metadata": {},
   "source": [
    "## Import Files & APIs"
   ]
  },
  {
   "cell_type": "code",
   "execution_count": 1,
   "id": "c87e1175",
   "metadata": {},
   "outputs": [],
   "source": [
    "import nltk\n",
    "import random\n",
    "import numpy as np"
   ]
  },
  {
   "cell_type": "code",
   "execution_count": 2,
   "id": "68215737",
   "metadata": {},
   "outputs": [],
   "source": [
    "from bs4 import BeautifulSoup"
   ]
  },
  {
   "cell_type": "code",
   "execution_count": 3,
   "id": "e7cd41cc",
   "metadata": {},
   "outputs": [],
   "source": [
    "positive_reviews = BeautifulSoup(open('positive.review').read())\n",
    "positive_reviews = positive_reviews.findAll('review_text')"
   ]
  }
 ],
 "metadata": {
  "kernelspec": {
   "display_name": "Python 3 (ipykernel)",
   "language": "python",
   "name": "python3"
  },
  "language_info": {
   "codemirror_mode": {
    "name": "ipython",
    "version": 3
   },
   "file_extension": ".py",
   "mimetype": "text/x-python",
   "name": "python",
   "nbconvert_exporter": "python",
   "pygments_lexer": "ipython3",
   "version": "3.8.8"
  }
 },
 "nbformat": 4,
 "nbformat_minor": 5
}
